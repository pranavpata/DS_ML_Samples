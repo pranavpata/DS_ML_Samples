{
  "cells": [
    {
      "cell_type": "markdown",
      "metadata": {
        "id": "5jhNkul8NxvA"
      },
      "source": [
        "#Problem 3: K-Means Algorithm"
      ]
    },
    {
      "cell_type": "code",
      "execution_count": null,
      "metadata": {
        "id": "_gNicxsYS2sf"
      },
      "outputs": [],
      "source": [
        "import pandas as pd\n",
        "import numpy as np\n",
        "import matplotlib.pyplot as plt\n",
        "from sklearn.cluster import KMeans\n",
        "from tqdm import tqdm"
      ]
    },
    {
      "cell_type": "code",
      "execution_count": null,
      "metadata": {
        "id": "VoqRYFzv6xTO"
      },
      "outputs": [],
      "source": [
        ""
      ]
    },
    {
      "cell_type": "code",
      "execution_count": null,
      "metadata": {
        "id": "DagYciWRTpKm"
      },
      "outputs": [],
      "source": [
        "## Function to load the CIFAR10 data\n",
        "## Documentation of CIFAR10: https://www.cs.toronto.edu/~kriz/cifar.html\n",
        "def dataloader():\n",
        "  import tensorflow as tf\n",
        "  cifar10 = tf.keras.datasets.cifar10\n",
        "  (_, _), (X, y) = cifar10.load_data()\n",
        "  return X, y"
      ]
    },
    {
      "cell_type": "code",
      "execution_count": null,
      "metadata": {
        "id": "lUBxH5COTpWb"
      },
      "outputs": [],
      "source": [
        "## simple utility function to visualize the data\n",
        "def visualize(X, ind):\n",
        "  from PIL import Image \n",
        "  plt.imshow(Image.fromarray(X[ind], 'RGB'))"
      ]
    },
    {
      "cell_type": "code",
      "execution_count": null,
      "metadata": {
        "id": "9eARNIUlTq0r",
        "colab": {
          "base_uri": "https://localhost:8080/"
        },
        "outputId": "b9d4e7e6-440b-433c-cf7c-f521152a721d"
      },
      "outputs": [
        {
          "output_type": "stream",
          "name": "stdout",
          "text": [
            "Downloading data from https://www.cs.toronto.edu/~kriz/cifar-10-python.tar.gz\n",
            "170500096/170498071 [==============================] - 2s 0us/step\n",
            "170508288/170498071 [==============================] - 2s 0us/step\n"
          ]
        }
      ],
      "source": [
        "X, y = dataloader()"
      ]
    },
    {
      "cell_type": "code",
      "execution_count": null,
      "metadata": {
        "colab": {
          "base_uri": "https://localhost:8080/"
        },
        "id": "zdhStn3ETsp3",
        "outputId": "9abf371c-6b79-4e7d-c693-f15597b79174"
      },
      "outputs": [
        {
          "output_type": "execute_result",
          "data": {
            "text/plain": [
              "((10000, 32, 32, 3), (10000, 1))"
            ]
          },
          "metadata": {},
          "execution_count": 5
        }
      ],
      "source": [
        "# 10K images of size 32 x 32 x 3 \n",
        "# where 32 x 32 is the height and width of the image\n",
        "# 3 is the number of channels 'RGB'\n",
        "X.shape, y.shape"
      ]
    },
    {
      "cell_type": "code",
      "execution_count": null,
      "metadata": {
        "colab": {
          "base_uri": "https://localhost:8080/",
          "height": 266
        },
        "id": "YlWk76g4Tt4E",
        "outputId": "d47c93e3-15a8-4448-d688-1aa245943e73"
      },
      "outputs": [
        {
          "output_type": "display_data",
          "data": {
            "text/plain": [
              "<Figure size 432x288 with 1 Axes>"
            ],
            "image/png": "[encoded data removed]"
          },
          "metadata": {
            "needs_background": "light"
          }
        }
      ],
      "source": [
        "visualize(X, 1)"
      ]
    },
    {
      "cell_type": "code",
      "execution_count": null,
      "metadata": {
        "id": "stl1q-S1Tvdj"
      },
      "outputs": [],
      "source": [
        "'''\n",
        "  Implement this function to form a 10000 x N matrix \n",
        "  from 10000 x 32 x 32 x 3 shape input.\n",
        "'''\n",
        "def reshape(X):\n",
        "  '''\n",
        "  \n",
        "  X = X\n",
        "  '''\n",
        "  X = X.reshape(10000, X.shape[1] * X.shape[2] * X.shape[3])\n",
        "  return X"
      ]
    },
    {
      "cell_type": "code",
      "execution_count": null,
      "metadata": {
        "id": "usmQSj8yT4PD"
      },
      "outputs": [],
      "source": [
        "X = reshape(X)"
      ]
    },
    {
      "cell_type": "code",
      "execution_count": null,
      "metadata": {
        "colab": {
          "base_uri": "https://localhost:8080/"
        },
        "id": "dtSNFihHT67F",
        "outputId": "c2326547-0b53-4742-82a7-e196ed410247"
      },
      "outputs": [
        {
          "output_type": "stream",
          "name": "stderr",
          "text": [
            "  0%|          | 0/3 [00:00<?, ?it/s]\n",
            "  0%|          | 0/3 [00:00<?, ?it/s]\u001b[A\n",
            " 33%|███▎      | 1/3 [00:34<01:08, 34.44s/it]\u001b[A\n",
            " 67%|██████▋   | 2/3 [00:59<00:28, 28.71s/it]\u001b[A\n",
            "100%|██████████| 3/3 [01:30<00:00, 30.30s/it]\n",
            " 33%|███▎      | 1/3 [01:30<03:01, 90.92s/it]\n",
            "  0%|          | 0/3 [00:00<?, ?it/s]\u001b[A\n",
            " 33%|███▎      | 1/3 [00:40<01:21, 40.86s/it]\u001b[A\n",
            " 67%|██████▋   | 2/3 [01:15<00:37, 37.26s/it]\u001b[A\n",
            "100%|██████████| 3/3 [01:51<00:00, 37.32s/it]\n",
            " 67%|██████▋   | 2/3 [03:22<01:43, 103.31s/it]\n",
            "  0%|          | 0/3 [00:00<?, ?it/s]\u001b[A\n",
            " 33%|███▎      | 1/3 [00:46<01:33, 46.83s/it]\u001b[A\n",
            " 67%|██████▋   | 2/3 [01:30<00:44, 44.73s/it]\u001b[A\n",
            "100%|██████████| 3/3 [02:26<00:00, 48.74s/it]\n",
            "100%|██████████| 3/3 [05:49<00:00, 116.38s/it]\n"
          ]
        }
      ],
      "source": [
        "clustering_score = []\n",
        "for i in tqdm(range(5, 20, 5)):\n",
        "  score = 0\n",
        "  for rs in tqdm(range(3)):\n",
        "    kmeans = KMeans(n_clusters = i, init = 'random', random_state = rs)\n",
        "    kmeans.fit(X)\n",
        "    score += kmeans.inertia_\n",
        "    '''\n",
        "      Write one line of code to fit the kMeans algorithm to the data\n",
        "      Write another line of code to report the kMeans clustering score defined as\n",
        "      Sum of squared distances of samples to their closest cluster center, weighted by the sample weights if provided.\n",
        "      Hint: https://scikit-learn.org/stable/modules/generated/sklearn.cluster.KMeans.html\n",
        "    '''\n",
        "  clustering_score.append(score/3) ## divide by 3 because 3 random states"
      ]
    },
    {
      "cell_type": "code",
      "execution_count": null,
      "metadata": {
        "id": "us3DG6_BT_pG",
        "colab": {
          "base_uri": "https://localhost:8080/",
          "height": 399
        },
        "outputId": "1ada3d4a-edf4-4f57-996d-b59c49f4bedd"
      },
      "outputs": [
        {
          "output_type": "display_data",
          "data": {
            "text/plain": [
              "<Figure size 720x432 with 1 Axes>"
            ],
            "image/png": "[encoded data removed]"
          },
          "metadata": {
            "needs_background": "light"
          }
        }
      ],
      "source": [
        "'''\n",
        "  Submit the plot you get after running this piece of code in your solutions\n",
        "'''\n",
        "plt.figure(figsize=(10,6))\n",
        "plt.plot(range(5, 20, 5), clustering_score)\n",
        "plt.xlabel('No. of Clusters')\n",
        "plt.ylabel('Clustering Score')\n",
        "plt.show()"
      ]
    },
    {
      "cell_type": "markdown",
      "metadata": {
        "id": "6oM8LvdIfK6R"
      },
      "source": [
        "### Visualize K Clusters for K = 10 and random_state = 42\n"
      ]
    },
    {
      "cell_type": "code",
      "execution_count": null,
      "metadata": {
        "id": "xl_QigqEUBcM"
      },
      "outputs": [],
      "source": [
        "from sklearn.decomposition import PCA\n",
        "pca = PCA(2) \n",
        "#Transform the data\n",
        "df = pca.fit_transform(X)"
      ]
    },
    {
      "cell_type": "code",
      "execution_count": null,
      "metadata": {
        "id": "IkMY_K8gUDeX",
        "colab": {
          "base_uri": "https://localhost:8080/",
          "height": 265
        },
        "outputId": "b70544e7-f82e-4dfb-b17e-a8b3a6e0a338"
      },
      "outputs": [
        {
          "output_type": "display_data",
          "data": {
            "text/plain": [
              "<Figure size 432x288 with 1 Axes>"
            ],
            "image/png": "[encoded data removed]"
          },
          "metadata": {
            "needs_background": "light"
          }
        }
      ],
      "source": [
        "### Analyzing the input data in 2D based on its true labels\n",
        "\n",
        "u_labels = np.unique(y[:, 0])\n",
        "\n",
        "for i in u_labels:\n",
        "    plt.scatter(df[y[:, 0] == i , 0] , df[y[:, 0] == i , 1] , label = i)\n",
        "plt.legend()\n",
        "plt.show()"
      ]
    },
    {
      "cell_type": "code",
      "execution_count": null,
      "metadata": {
        "id": "BDq3Bd5rUJGj",
        "colab": {
          "base_uri": "https://localhost:8080/",
          "height": 265
        },
        "outputId": "8d35cf9a-c920-438a-9593-1d606f19cf1c"
      },
      "outputs": [
        {
          "output_type": "display_data",
          "data": {
            "text/plain": [
              "<Figure size 432x288 with 1 Axes>"
            ],
            "image/png": "[encoded data removed]"
          },
          "metadata": {
            "needs_background": "light"
          }
        }
      ],
      "source": [
        "'''\n",
        "  Submit the output plot as a part of the solutions\n",
        "'''\n",
        "\n",
        "kmeans = KMeans(n_clusters = 10, init = 'random', random_state = 42)\n",
        "'''\n",
        "  Write one line of code to get the predicted labels of the 10-clusters\n",
        "'''\n",
        "label = kmeans.fit_predict(X)\n",
        "\n",
        "u_labels = np.unique(label)\n",
        "#plotting the results:\n",
        " \n",
        "for i in u_labels:\n",
        "    '''\n",
        "      Write one line of code to get a scatter plot for i-th cluster.\n",
        "      Have its label = i\n",
        "    \n",
        "    '''\n",
        "    plt.scatter(df[np.where(label == i), 0], df[np.where(label == i), 1], label = i)\n",
        "plt.legend()\n",
        "plt.show()"
      ]
    },
    {
      "cell_type": "markdown",
      "metadata": {
        "id": "hOk9wtE1f0lP"
      },
      "source": [
        "# Problem 2: Backprop in a Neural Network "
      ]
    },
    {
      "cell_type": "code",
      "execution_count": null,
      "metadata": {
        "colab": {
          "base_uri": "https://localhost:8080/"
        },
        "id": "MX932ASVgB4x",
        "outputId": "5c4b66c6-b89d-4548-cd22-fe31f0cc368f"
      },
      "outputs": [
        {
          "output_type": "stream",
          "name": "stdout",
          "text": [
            "Mounted at /content/drive\n",
            "Train data shape:  (4500, 784)\n",
            "Train target shape:  (4500,)\n",
            "Val data shape:  (500, 784)\n",
            "Val target shape:  (500,)\n",
            "Test data shape:  (500, 784)\n",
            "Test target shape:  (500,)\n"
          ]
        }
      ],
      "source": [
        "## Load fashionMNIST. This is the same code with homework one.\n",
        "## Part a: Load and visualize the data.\n",
        "from google.colab import drive\n",
        "drive.mount('/content/drive')\n",
        "X_train_and_val = np.load('/content/drive/My Drive/CSM146-Spring2022-HW1-code/data/binary_classification/X_train.npy')\n",
        "y_train_and_val = np.load('/content/drive/My Drive/CSM146-Spring2022-HW1-code/data/binary_classification/y_train.npy')\n",
        "X_test = np.load('/content/drive/My Drive/CSM146-Spring2022-HW1-code/data/binary_classification/X_test.npy')\n",
        "y_test = np.load('/content/drive/My Drive/CSM146-Spring2022-HW1-code/data/binary_classification/y_test.npy')\n",
        "X_train, X_val = X_train_and_val[:4500], X_train_and_val[4500:]\n",
        "y_train, y_val = y_train_and_val[:4500], y_train_and_val[4500:]\n",
        "y_train[y_train[:] == -1] = 0\n",
        "y_val[y_val[:] == -1] = 0\n",
        "y_test[y_test[:] == -1] = 0\n",
        "y_train = y_train.squeeze(1)\n",
        "y_val = y_val.squeeze(1)\n",
        "y_test = y_test.squeeze(1)\n",
        "print('Train data shape: ', X_train.shape)\n",
        "print('Train target shape: ', y_train.shape)\n",
        "print('Val data shape: ', X_val.shape)\n",
        "print('Val target shape: ', y_val.shape)\n",
        "print('Test data shape: ',X_test.shape)\n",
        "print('Test target shape: ',y_test.shape)"
      ]
    },
    {
      "cell_type": "code",
      "execution_count": null,
      "metadata": {
        "colab": {
          "base_uri": "https://localhost:8080/",
          "height": 283
        },
        "id": "ImOeXkGdZITO",
        "outputId": "0c34a2f9-d42d-4284-f342-61e7b6cbfb1d"
      },
      "outputs": [
        {
          "output_type": "display_data",
          "data": {
            "text/plain": [
              "<Figure size 432x288 with 1 Axes>"
            ],
            "image/png": "[encoded data removed]"
          },
          "metadata": {
            "needs_background": "light"
          }
        },
        {
          "output_type": "stream",
          "name": "stdout",
          "text": [
            "label is Shirt\n"
          ]
        }
      ],
      "source": [
        "## Part(a): Load and visualize the data.\n",
        "index = 11\n",
        "X = np.array(X_train[index], dtype='uint8')\n",
        "X = X.reshape((28, 28))\n",
        "fig = plt.figure()\n",
        "plt.imshow(X, cmap='gray')\n",
        "plt.show()\n",
        "if y_train[index] == 1:\n",
        "    label = 'Dress'\n",
        "else:\n",
        "    label = 'Shirt'\n",
        "print('label is', label)"
      ]
    },
    {
      "cell_type": "code",
      "execution_count": null,
      "metadata": {
        "colab": {
          "base_uri": "https://localhost:8080/"
        },
        "id": "IvUgYwlkq_ki",
        "outputId": "b0d00149-400e-468c-8e2b-c45c26c2577b"
      },
      "outputs": [
        {
          "output_type": "stream",
          "name": "stdout",
          "text": [
            "[0 0 1 ... 0 0 1]\n"
          ]
        }
      ],
      "source": [
        "print(y_train)"
      ]
    },
    {
      "cell_type": "code",
      "execution_count": null,
      "metadata": {
        "id": "qpdpzbxaDYpO"
      },
      "outputs": [],
      "source": [
        "import numpy as np\n",
        "import matplotlib.pyplot as plt\n",
        "\n",
        "class TwoLayerNet(object):\n",
        "    \"\"\"\n",
        "    A two-layer fully-connected neural network for binary classification. \n",
        "    We train the network with a softmax loss function and L2 regularization on the\n",
        "    weight matrices. The network uses a ReLU nonlinearity after the first fully\n",
        "    connected layer.\n",
        "    Input: X\n",
        "    Hidden states for layer 1: h1 = W1X + b1\n",
        "    Activations: a2 = ReLU(h1)\n",
        "    Hidden states for layer 2: h2 = W2a2 + b2\n",
        "    Probabilities: s = softmax(h2)\n",
        "    \n",
        "    ReLU function: \n",
        "    (i) x = x if x >= 0  (ii) x = 0 if x < 0\n",
        "\n",
        "    The outputs of the second fully-connected layer are the scores for each class.\n",
        "    \"\"\"\n",
        "\n",
        "    def __init__(self, input_size, hidden_size, output_size, std=1e-4):\n",
        "        \"\"\"\n",
        "        Initialize the model. Weights are initialized to small random values and\n",
        "        biases are initialized to zero. Weights and biases are stored in the\n",
        "        variable self.params, which is a dictionary with the following keys:\n",
        "\n",
        "        W1: First layer weights; has shape (H, D)\n",
        "        b1: First layer biases; has shape (H,)\n",
        "        W2: Second layer weights; has shape (C, H)\n",
        "        b2: Second layer biases; has shape (C,)\n",
        "\n",
        "        Inputs:\n",
        "        - input_size: The dimension D of the input data.\n",
        "        - hidden_size: The number of neurons H in the hidden layer.\n",
        "        - output_size: The number of classes C.\n",
        "        \"\"\"\n",
        "        self.params = {}\n",
        "        self.params['W1'] = std * np.random.randn(hidden_size, input_size)\n",
        "        self.params['b1'] = np.zeros(hidden_size)\n",
        "        self.params['W2'] = std * np.random.randn(output_size, hidden_size)\n",
        "        self.params['b2'] = np.zeros(output_size)\n",
        "\n",
        "    def loss(self, X, y=None, reg=0.0):\n",
        "        \"\"\"\n",
        "        Compute the loss and gradients for a two layer fully connected neural\n",
        "        network.\n",
        "\n",
        "        Inputs:\n",
        "        - X: Input data of shape (N, D). Each X[i] is a training sample.\n",
        "        - y: Vector of training labels. y[i] is the label for X[i], and each y[i] is\n",
        "          an integer in the range 0 <= y[i] < C. This parameter is optional; if it\n",
        "          is not passed then we only return scores, and if it is passed then we\n",
        "          instead return the loss and gradients.\n",
        "        - reg: Regularization strength.\n",
        "\n",
        "        Returns:\n",
        "        If y is None, return a matrix scores of shape (N, C) where scores[i, c] is\n",
        "        the score for class c on input X[i].\n",
        "\n",
        "        If y is not None, instead return a tuple of:\n",
        "        - loss: Loss (data loss and regularization loss) for this batch of training\n",
        "          samples.\n",
        "        - grads: Dictionary mapping parameter names to gradients of those parameters\n",
        "          with respect to the loss function; has the same keys as self.params.\n",
        "        \"\"\"\n",
        "        # Unpack variables from the params dictionary\n",
        "        W1, b1 = self.params['W1'], self.params['b1']\n",
        "        W2, b2 = self.params['W2'], self.params['b2']\n",
        "        N, D = X.shape\n",
        "\n",
        "        # Compute the forward pass\n",
        "        scores = None\n",
        "\n",
        "        ### ========== TODO : START ========== ###\n",
        "        #   Calculate the output of the neural network using forward pass.  \n",
        "        #   The result should be (N, C), where N is the number of examples, and C is the number of classes. \n",
        "        #   The output of the second fully connected layer is the output scores (before softmax). \n",
        "        #   Do not use a for loop in your implementation.\n",
        "        #   Please use 'h1' as input of hidden layers, and 'a2' as output of \n",
        "        #   Refer to the comments at the beginning of this class for the model architecture\n",
        "        #   You may simply use np.maximun for implementing ReLU.\n",
        "        ##  Part (b): Implement the forward pass.\n",
        "\n",
        "        h1 = X.dot(W1.T) + b1 #(N x H)\n",
        "        a2 = np.maximum(0, h1)\n",
        "        scores = (a2.dot(W2.T) + b2)\n",
        "\n",
        "\n",
        "\n",
        "\n",
        "        ### ========== TODO : END ========== ###\n",
        "\n",
        "\n",
        "        # If the targets are not given then jump out, we're done\n",
        "        if y is None:\n",
        "            return scores\n",
        "\n",
        "        # Compute the loss\n",
        "        loss = None\n",
        "\n",
        "        # scores is num_examples by num_classes (N, C)\n",
        "        def softmax_loss(x, y):\n",
        "            ### ========== TODO : START ========== ###\n",
        "            #   Calculate the cross entropy loss after softmax output layer.\n",
        "            #   This function should return loss and dx\n",
        "            probs = np.exp(x - np.max(x, axis=1, keepdims=True))\n",
        "            probs /= np.sum(probs, axis=1, keepdims=True)\n",
        "            N = x.shape[0]\n",
        "            ##  Part (d): Implement the CrossEntropyLoss\n",
        "            loss = np.mean((-1 * y)*np.log(probs[:, 0]) - ((1 - y) * np.log(probs[:, 1])))\n",
        "            ##  Part (d): Implement the gradient of y wrt x\n",
        "            y_encoded = np.zeros((y.shape[0], 2))\n",
        "            for i in np.arange(y.shape[0]):\n",
        "              if y[i] == 1:\n",
        "                y_encoded[i] = [1, 0]\n",
        "              else:\n",
        "                y_encoded[i] = [0, 1]\n",
        "            dx = (1/N) * (probs - y_encoded) #(4500 x 2)\n",
        "            ### ========== TODO : END ========== ###\n",
        "            return loss, dx\n",
        "        \n",
        "        \n",
        "        data_loss, dscore = softmax_loss(scores, y) \n",
        "        \n",
        "        ### ========== TODO : START ========== ###\n",
        "        #   Calculate the regularization loss. Multiply the regularization\n",
        "        #   loss by 0.5 (in addition to the factor reg).\n",
        "        ##  Part (c): Implement the regularization loss\n",
        "        reg_loss = 0.5/N* (np.sum(np.power(self.params[\"W1\"], 2)) + np.sum(np.power(self.params[\"W2\"], 2)))\n",
        "        ### ========== TODO : END ========== ###\n",
        "\n",
        "        loss = data_loss + reg_loss\n",
        "\n",
        "        grads = {}\n",
        "\n",
        "        ### ========== TODO : START ========== ###\n",
        "        #  Compute backpropagation\n",
        "        #  Remember the loss contains two parts: cross-entropy and regularization. The computation for gradients of W1 and b1 shown here can be regarded as a reference.\n",
        "        ## Part (e): Implement the computations of gradients for W2 and b2.\n",
        "        w2grads = np.zeros(W2.shape)\n",
        "        \n",
        "        #b2grads = np.zeros(b2.shape)\n",
        "        #b2grads[0] = np.mean(dscore[:, 0])\n",
        "        #b2grads[1] = np.mean(dscore[:, 1])\n",
        "        grads['W2'] = a2.T.dot(dscore).T + reg * W2\n",
        "        grads[\"b2\"] = np.ones(N).dot(dscore)\n",
        "        da_h = np.zeros(h1.shape)\n",
        "        da_h[h1>0] = 1\n",
        "        dh = (dscore.dot(W2) * da_h)\n",
        "\n",
        "        grads['W1'] = np.dot(dh.T,X) + reg * W1\n",
        "        grads['b1'] = np.ones(N).dot(dh)\n",
        "        ### ========== TODO : END ========== ###\n",
        "\n",
        "        return loss, grads\n",
        "\n",
        "    def train(self, X, y, X_val, y_val,\n",
        "            learning_rate=1e-3, learning_rate_decay=0.95,\n",
        "            reg=1e-5, num_iters=100,\n",
        "            batch_size=200, verbose=False):\n",
        "        \"\"\"\n",
        "        Train this neural network using stochastic gradient descent.\n",
        "\n",
        "        Inputs:\n",
        "        - X: A numpy array of shape (N, D) giving training data.\n",
        "        - y: A numpy array f shape (N,) giving training labels; y[i] = c means that\n",
        "          X[i] has label c, where 0 <= c < C.\n",
        "        - X_val: A numpy array of shape (N_val, D) giving validation data.\n",
        "        - y_val: A numpy array of shape (N_val,) giving validation labels.\n",
        "        - learning_rate: Scalar giving learning rate for optimization.\n",
        "        - learning_rate_decay: Scalar giving factor used to decay the learning rate\n",
        "          after each epoch.\n",
        "        - reg: Scalar giving regularization strength.\n",
        "        - num_iters: Number of steps to take when optimizing.\n",
        "        - batch_size: Number of training examples to use per step.\n",
        "        - verbose: boolean; if true print progress during optimization.\n",
        "        \"\"\"\n",
        "        num_train = X.shape[0]\n",
        "        iterations_per_epoch = max(num_train / batch_size, 1)\n",
        "\n",
        "        # Use SGD to optimize the parameters in self.model\n",
        "        loss_history = []\n",
        "        train_acc_history = []\n",
        "        val_acc_history = []\n",
        "\n",
        "        for it in np.arange(num_iters):\n",
        "            X_batch = None\n",
        "            y_batch = None\n",
        "\n",
        "            #   Create a minibatch (X_batch, y_batch) by sampling batch_size \n",
        "            #   samples randomly.\n",
        "\n",
        "            b_index = np.random.choice(num_train, batch_size)\n",
        "            X_batch = X[b_index]\n",
        "            y_batch = y[b_index]\n",
        "\n",
        "            # Compute loss and gradients using the current minibatch\n",
        "            loss, grads = self.loss(X_batch, y=y_batch, reg=reg)\n",
        "            loss_history.append(loss)\n",
        "\n",
        "            \n",
        "            self.params['W1'] -= learning_rate * grads['W1']\n",
        "            self.params['b1'] -= learning_rate * grads['b1']\n",
        "            self.params['W2'] -= learning_rate * grads['W2']\n",
        "            self.params['b2'] -= learning_rate * grads['b2']\n",
        "\n",
        "\n",
        "            if verbose and it % 100 == 0:\n",
        "                print('iteration {} / {}: loss {}'.format(it, num_iters, loss))\n",
        "\n",
        "            # Every epoch, check train and val accuracy and decay learning rate.\n",
        "            if it % iterations_per_epoch == 0:\n",
        "                # Check accuracy\n",
        "                train_acc = (self.predict(X_batch) == y_batch).mean()\n",
        "                val_acc = (self.predict(X_val) == y_val).mean()\n",
        "                train_acc_history.append(train_acc)\n",
        "                val_acc_history.append(val_acc)\n",
        "\n",
        "                # Decay learning rate\n",
        "                learning_rate *= learning_rate_decay\n",
        "\n",
        "        return {\n",
        "          'loss_history': loss_history,\n",
        "          'train_acc_history': train_acc_history,\n",
        "          'val_acc_history': val_acc_history,\n",
        "        }\n",
        "\n",
        "    def predict(self, X):\n",
        "        \"\"\"\n",
        "        Use the trained weights of this two-layer network to predict labels for\n",
        "        data points. For each data point we predict scores for each of the C\n",
        "        classes, and assign each data point to the class with the highest score.\n",
        "\n",
        "        Inputs:\n",
        "        - X: A numpy array of shape (N, D) giving N D-dimensional data points to\n",
        "          classify.\n",
        "\n",
        "        Returns:\n",
        "        - y_pred: A numpy array of shape (N,) giving predicted labels for each of\n",
        "          the elements of X. For all i, y_pred[i] = c means that X[i] is predicted\n",
        "          to have class c, where 0 <= c < C.\n",
        "        \"\"\"\n",
        "        y_pred = None\n",
        "\n",
        "        ### ========== TODO : START ========== ###\n",
        "        #   Predict the class given the input data.\n",
        "        ##  Part (f): Implement the prediction function\n",
        "        h1 = X.dot(self.params[\"W1\"].T) + self.params[\"b1\"] #(N x H)\n",
        "        a2 = np.maximum(0, h1)\n",
        "        scores = a2.dot(self.params[\"W2\"].T) + self.params[\"b2\"]\n",
        "        y_pred = np.argmax(scores, axis = 1)\n",
        "        y_pred = 1 - y_pred\n",
        "        ### ========== TODO : END ========== ###\n",
        "\n",
        "        return y_pred\n",
        "\n",
        "\n"
      ]
    },
    {
      "cell_type": "code",
      "execution_count": null,
      "metadata": {
        "colab": {
          "base_uri": "https://localhost:8080/"
        },
        "id": "TqQtNxY9Dyur",
        "outputId": "ed0ed21e-5aca-46e2-96a7-5202bec83477"
      },
      "outputs": [
        {
          "output_type": "stream",
          "name": "stdout",
          "text": [
            "iteration 0 / 1000: loss 0.6932867179852376\n",
            "iteration 100 / 1000: loss 0.6930593853407264\n",
            "iteration 200 / 1000: loss 0.6925425370197811\n",
            "iteration 300 / 1000: loss 0.6913765049363546\n",
            "iteration 400 / 1000: loss 0.6897818352596629\n",
            "iteration 500 / 1000: loss 0.6850603381968452\n",
            "iteration 600 / 1000: loss 0.6811553080313189\n",
            "iteration 700 / 1000: loss 0.6721534848913593\n",
            "iteration 800 / 1000: loss 0.6606120636346264\n",
            "iteration 900 / 1000: loss 0.652227535685124\n",
            "learning_rate:  1e-05\n",
            "Validation accuracy:  0.746\n",
            "Test accuracy (subopt_net):  0.716\n",
            "iteration 0 / 1000: loss 0.6371963143280348\n",
            "iteration 100 / 1000: loss 0.2382667203499869\n",
            "iteration 200 / 1000: loss 0.22577742410115859\n",
            "iteration 300 / 1000: loss 0.12033757337686303\n",
            "iteration 400 / 1000: loss 0.17832967526908772\n",
            "iteration 500 / 1000: loss 0.11387184857657563\n",
            "iteration 600 / 1000: loss 0.10039275225764721\n",
            "iteration 700 / 1000: loss 0.08832766146843574\n",
            "iteration 800 / 1000: loss 0.11687246465194821\n",
            "iteration 900 / 1000: loss 0.14247263346643474\n",
            "learning_rate:  0.0001\n",
            "Validation accuracy:  0.954\n",
            "Test accuracy (subopt_net):  0.942\n",
            "iteration 0 / 1000: loss 0.1257890955563127\n",
            "iteration 100 / 1000: loss 0.435440772377523\n",
            "iteration 200 / 1000: loss 0.7240273369378168\n",
            "iteration 300 / 1000: loss 0.17209161781239146\n",
            "iteration 400 / 1000: loss 0.10997114016117043\n",
            "iteration 500 / 1000: loss 0.11782145380735032\n",
            "iteration 600 / 1000: loss 0.12259172348685513\n",
            "iteration 700 / 1000: loss 0.12813078252688553\n",
            "iteration 800 / 1000: loss 0.1349468951110058\n",
            "iteration 900 / 1000: loss 0.16544414256057172\n",
            "learning_rate:  0.001\n",
            "Validation accuracy:  0.952\n",
            "Test accuracy (subopt_net):  0.944\n",
            "iteration 0 / 1000: loss 0.11749031557745743\n",
            "iteration 100 / 1000: loss 2.363530476818777\n",
            "iteration 200 / 1000: loss 2.951946428073201\n",
            "iteration 300 / 1000: loss 2.7933248712945846\n",
            "iteration 400 / 1000: loss 2.660113338382888\n",
            "iteration 500 / 1000: loss 2.5419290305126796\n",
            "iteration 600 / 1000: loss 2.4515458069568243\n",
            "iteration 700 / 1000: loss 2.372881842057077\n",
            "iteration 800 / 1000: loss 2.304415325230611\n",
            "iteration 900 / 1000: loss 2.245232892973789\n",
            "learning_rate:  0.005\n",
            "Validation accuracy:  0.464\n",
            "Test accuracy (subopt_net):  0.5\n",
            "iteration 0 / 1000: loss 2.196998486389736\n",
            "iteration 100 / 1000: loss 572.1526232705802\n",
            "iteration 200 / 1000: loss 110.31010503482344\n",
            "iteration 300 / 1000: loss 25.786068644327578\n",
            "iteration 400 / 1000: loss 7.419042966703716\n",
            "iteration 500 / 1000: loss 2.7759427299591133\n",
            "iteration 600 / 1000: loss 1.4254208379094964\n",
            "iteration 700 / 1000: loss 0.9821112327244546\n",
            "iteration 800 / 1000: loss 0.8177834629638613\n",
            "iteration 900 / 1000: loss 0.7528362556320248\n",
            "learning_rate:  0.1\n",
            "Validation accuracy:  0.464\n",
            "Test accuracy (subopt_net):  0.5\n"
          ]
        }
      ],
      "source": [
        "input_size = 784\n",
        "hidden_size = 50\n",
        "num_classes = 2\n",
        "net = TwoLayerNet(input_size, hidden_size, num_classes)\n",
        "net.loss(X_train, y_train)\n",
        "# Train the network\n",
        "for learning_rate in [1e-5, 1e-4, 1e-3, 5e-3, 1e-1]:\n",
        "  stats = net.train(X_train, y_train, X_val, y_val,\n",
        "              num_iters=1000, batch_size=200,\n",
        "              learning_rate=learning_rate, learning_rate_decay=0.95,\n",
        "              reg=0.1, verbose=True)\n",
        "\n",
        "  # Predict on the validation set\n",
        "  val_acc = (net.predict(X_val) == y_val).mean()\n",
        "  print('learning_rate: ', learning_rate)\n",
        "  print('Validation accuracy: ', val_acc)\n",
        "\n",
        "  # Save this net as the variable subopt_net for later comparison.\n",
        "  subopt_net = net\n",
        "  test_acc = (subopt_net.predict(X_test) == y_test).mean()\n",
        "  print('Test accuracy (subopt_net): ', test_acc)"
      ]
    },
    {
      "cell_type": "code",
      "execution_count": null,
      "metadata": {
        "id": "vrpTF1ddi7qo"
      },
      "outputs": [],
      "source": [
        ""
      ]
    }
  ],
  "metadata": {
    "colab": {
      "collapsed_sections": [],
      "name": "HW4_CodingQuestions.ipynb",
      "provenance": []
    },
    "kernelspec": {
      "display_name": "Python 3 (ipykernel)",
      "language": "python",
      "name": "python3"
    },
    "language_info": {
      "codemirror_mode": {
        "name": "ipython",
        "version": 3
      },
      "file_extension": ".py",
      "mimetype": "text/x-python",
      "name": "python",
      "nbconvert_exporter": "python",
      "pygments_lexer": "ipython3",
      "version": "3.9.7"
    }
  },
  "nbformat": 4,
  "nbformat_minor": 0
}